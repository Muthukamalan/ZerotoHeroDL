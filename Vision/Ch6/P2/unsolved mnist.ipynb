{
 "cells": [
  {
   "cell_type": "code",
   "execution_count": 9,
   "metadata": {},
   "outputs": [],
   "source": [
    "from init import *\n",
    "from utils import config,device,show__random_img,calculate_mean_std_mnist"
   ]
  },
  {
   "cell_type": "code",
   "execution_count": 2,
   "metadata": {},
   "outputs": [],
   "source": [
    "# Float16\n",
    "torch.cuda.amp.autocast(enabled=False)\n",
    "\n",
    "# REPRODUCE\n",
    "torch.backends.cudnn.deterministi=True\n",
    "random.seed(hash('setting random seeds')% 2**32-1)\n",
    "np.random.seed(hash('improves reproducibility')%2**32-1)\n",
    "torch.manual_seed(hash(\"by removing stochasticity\")%2**32-1)\n",
    "torch.cuda.manual_seed_all(hash('so runs are repetable')%2**32-1)"
   ]
  },
  {
   "cell_type": "code",
   "execution_count": 10,
   "metadata": {},
   "outputs": [],
   "source": [
    "train_transforms = transforms.Compose([\n",
    "    transforms.RandomApply([transforms.CenterCrop(22), ], p=0.1),\n",
    "    transforms.Resize((28, 28)),\n",
    "    transforms.RandomRotation((-15., 15.), fill=0),\n",
    "    transforms.ToTensor(),\n",
    "    transforms.Normalize((0.1307,), (0.3081,)),\n",
    "    ])\n",
    "\n",
    "# Test data transformations\n",
    "test_transforms = transforms.Compose([\n",
    "    transforms.ToTensor(),\n",
    "    transforms.Normalize((0.1307,), (0.3081,))\n",
    "    ])\n"
   ]
  },
  {
   "cell_type": "code",
   "execution_count": 11,
   "metadata": {},
   "outputs": [],
   "source": [
    "train_data = datasets.MNIST('../../../data', train=True, download=False, transform=train_transforms)\n",
    "test_data = datasets.MNIST('../../../data', train=False, download=False, transform=test_transforms)"
   ]
  },
  {
   "cell_type": "code",
   "execution_count": 12,
   "metadata": {},
   "outputs": [],
   "source": [
    "batch_size = 64\n",
    "\n",
    "if torch.cuda.is_available():\n",
    "    kwargs = {'batch_size': batch_size, 'shuffle': True, 'num_workers': 3, 'pin_memory': True}\n",
    "else:\n",
    "    kwargs = {'batch_size':32,'shuffle':True}\n",
    "\n",
    "test_loader = torch.utils.data.DataLoader(test_data, **kwargs)\n",
    "train_loader = torch.utils.data.DataLoader(train_data, **kwargs)"
   ]
  },
  {
   "cell_type": "code",
   "execution_count": 13,
   "metadata": {},
   "outputs": [],
   "source": [
    "# Data to plot accuracy and loss graphs\n",
    "train_losses = []\n",
    "test_losses = []\n",
    "train_acc = []\n",
    "test_acc = []\n",
    "\n",
    "test_incorrect_pred = {'images': [], 'ground_truths': [], 'predicted_vals': []}\n",
    "\n",
    "def GetCorrectPredCount(pPrediction, pLabels):\n",
    "  return pPrediction.argmax(dim=1).eq(pLabels).sum().item()\n",
    "\n",
    "\n",
    "def train(model, device, train_loader, optimizer, criterion):\n",
    "  model.train()\n",
    "  pbar = tqdm(train_loader)\n",
    "\n",
    "  train_loss = 0\n",
    "  correct = 0\n",
    "  processed = 0\n",
    "\n",
    "  for batch_idx, (data, target) in enumerate(pbar):\n",
    "    data, target = data.to(device), target.to(device)\n",
    "    optimizer.zero_grad()\n",
    "\n",
    "    # Predict\n",
    "    pred = model(data)\n",
    "\n",
    "    # Calculate loss\n",
    "    loss = criterion(pred, target)\n",
    "    train_loss+=loss.item()\n",
    "\n",
    "    # Backpropagation\n",
    "    loss.backward()\n",
    "    optimizer.step()\n",
    "\n",
    "    correct += GetCorrectPredCount(pred, target)\n",
    "    processed += len(data)\n",
    "\n",
    "    pbar.set_description(desc= f'Train: Loss={loss.item():0.4f} Batch_id={batch_idx} Accuracy={100*correct/processed:0.2f}')\n",
    "\n",
    "  train_acc.append(100*correct/processed)\n",
    "  train_losses.append(train_loss/len(train_loader))\n",
    "\n",
    "def test(model, device, test_loader, criterion):\n",
    "    model.eval()\n",
    "\n",
    "    test_loss = 0\n",
    "    correct = 0\n",
    "\n",
    "    with torch.no_grad():\n",
    "        for batch_idx, (data, target) in enumerate(test_loader):\n",
    "            data, target = data.to(device), target.to(device)\n",
    "\n",
    "            output = model(data)\n",
    "            test_loss += criterion(output, target, reduction='sum').item()  # sum up batch loss\n",
    "\n",
    "            correct += GetCorrectPredCount(output, target)\n",
    "\n",
    "\n",
    "    test_loss /= len(test_loader.dataset)\n",
    "    test_acc.append(100. * correct / len(test_loader.dataset))\n",
    "    test_losses.append(test_loss)\n",
    "    \n",
    "    print('Test set: Average loss: {:.4f}, Accuracy: {}/{} ({:.4f}%)\\n'.format(\n",
    "        test_loss, correct, len(test_loader.dataset),\n",
    "        100. * correct / len(test_loader.dataset)))\n",
    "    return test_loss"
   ]
  },
  {
   "cell_type": "code",
   "execution_count": 14,
   "metadata": {},
   "outputs": [
    {
     "data": {
      "image/png": "[encoded data removed]",
      "text/plain": [
       "<Figure size 640x480 with 1 Axes>"
      ]
     },
     "metadata": {},
     "output_type": "display_data"
    }
   ],
   "source": [
    "for i in random.choices(np.arange(0,20),k=1):\n",
    "    plt.imshow(train_data.data[i])\n",
    "    plt.title(f'label = {train_data.targets[i].numpy()}')\n",
    "    plt.show()"
   ]
  },
  {
   "cell_type": "markdown",
   "metadata": {},
   "source": [
    "### Model 1"
   ]
  },
  {
   "cell_type": "code",
   "execution_count": 15,
   "metadata": {},
   "outputs": [],
   "source": [
    "from model import Net"
   ]
  },
  {
   "cell_type": "code",
   "execution_count": 16,
   "metadata": {},
   "outputs": [
    {
     "name": "stderr",
     "output_type": "stream",
     "text": [
      "c:\\Users\\muthu\\miniconda3\\envs\\venv\\Lib\\site-packages\\torch\\optim\\lr_scheduler.py:28: UserWarning: The verbose parameter is deprecated. Please use get_last_lr() to access the learning rate.\n",
      "  warnings.warn(\"The verbose parameter is deprecated. Please use get_last_lr() \"\n"
     ]
    },
    {
     "name": "stdout",
     "output_type": "stream",
     "text": [
      "----------------------------------------------------------------\n",
      "        Layer (type)               Output Shape         Param #\n",
      "================================================================\n",
      "            Conv2d-1            [-1, 3, 28, 28]              27\n",
      "       BatchNorm2d-2            [-1, 3, 28, 28]               6\n",
      "              ReLU-3            [-1, 3, 28, 28]               0\n",
      "         Dropout2d-4            [-1, 3, 28, 28]               0\n",
      "            Conv2d-5            [-1, 8, 28, 28]             216\n",
      "       BatchNorm2d-6            [-1, 8, 28, 28]              16\n",
      "              ReLU-7            [-1, 8, 28, 28]               0\n",
      "         Dropout2d-8            [-1, 8, 28, 28]               0\n",
      "            Conv2d-9           [-1, 16, 28, 28]           1,152\n",
      "      BatchNorm2d-10           [-1, 16, 28, 28]              32\n",
      "             ReLU-11           [-1, 16, 28, 28]               0\n",
      "        Dropout2d-12           [-1, 16, 28, 28]               0\n",
      "        MaxPool2d-13           [-1, 16, 15, 15]               0\n",
      "           Conv2d-14            [-1, 8, 17, 17]             128\n",
      "      BatchNorm2d-15            [-1, 8, 17, 17]              16\n",
      "           Conv2d-16           [-1, 16, 17, 17]           1,152\n",
      "      BatchNorm2d-17           [-1, 16, 17, 17]              32\n",
      "             ReLU-18           [-1, 16, 17, 17]               0\n",
      "        Dropout2d-19           [-1, 16, 17, 17]               0\n",
      "           Conv2d-20           [-1, 16, 17, 17]           2,304\n",
      "      BatchNorm2d-21           [-1, 16, 17, 17]              32\n",
      "             ReLU-22           [-1, 16, 17, 17]               0\n",
      "        Dropout2d-23           [-1, 16, 17, 17]               0\n",
      "           Conv2d-24           [-1, 16, 17, 17]           2,304\n",
      "      BatchNorm2d-25           [-1, 16, 17, 17]              32\n",
      "             ReLU-26           [-1, 16, 17, 17]               0\n",
      "        Dropout2d-27           [-1, 16, 17, 17]               0\n",
      "        MaxPool2d-28             [-1, 16, 9, 9]               0\n",
      "           Conv2d-29             [-1, 16, 9, 9]             256\n",
      "      BatchNorm2d-30             [-1, 16, 9, 9]              32\n",
      "           Conv2d-31             [-1, 16, 9, 9]           2,304\n",
      "      BatchNorm2d-32             [-1, 16, 9, 9]              32\n",
      "             ReLU-33             [-1, 16, 9, 9]               0\n",
      "        Dropout2d-34             [-1, 16, 9, 9]               0\n",
      "           Conv2d-35             [-1, 16, 9, 9]           2,304\n",
      "             ReLU-36             [-1, 16, 9, 9]               0\n",
      "      BatchNorm2d-37             [-1, 16, 9, 9]              32\n",
      "        Dropout2d-38             [-1, 16, 9, 9]               0\n",
      "        MaxPool2d-39             [-1, 16, 4, 4]               0\n",
      "           Conv2d-40             [-1, 16, 4, 4]             256\n",
      "      BatchNorm2d-41             [-1, 16, 4, 4]              32\n",
      "           Conv2d-42             [-1, 10, 4, 4]           1,440\n",
      "      BatchNorm2d-43             [-1, 10, 4, 4]              20\n",
      "        AvgPool2d-44             [-1, 10, 1, 1]               0\n",
      "================================================================\n",
      "Total params: 14,157\n",
      "Trainable params: 14,157\n",
      "Non-trainable params: 0\n",
      "----------------------------------------------------------------\n",
      "Input size (MB): 0.00\n",
      "Forward/backward pass size (MB): 1.25\n",
      "Params size (MB): 0.05\n",
      "Estimated Total Size (MB): 1.31\n",
      "----------------------------------------------------------------\n",
      "Epoch 1\n"
     ]
    },
    {
     "name": "stderr",
     "output_type": "stream",
     "text": [
      "Train: Loss=0.0387 Batch_id=937 Accuracy=92.08: 100%|██████████| 938/938 [00:24<00:00, 37.79it/s]\n"
     ]
    },
    {
     "name": "stdout",
     "output_type": "stream",
     "text": [
      "Test set: Average loss: 0.0774, Accuracy: 9747/10000 (97.4700%)\n",
      "\n",
      "Epoch 2\n"
     ]
    },
    {
     "name": "stderr",
     "output_type": "stream",
     "text": [
      "Train: Loss=0.0662 Batch_id=937 Accuracy=97.13: 100%|██████████| 938/938 [00:22<00:00, 41.67it/s]\n"
     ]
    },
    {
     "name": "stdout",
     "output_type": "stream",
     "text": [
      "Test set: Average loss: 0.0372, Accuracy: 9882/10000 (98.8200%)\n",
      "\n",
      "Epoch 3\n"
     ]
    },
    {
     "name": "stderr",
     "output_type": "stream",
     "text": [
      "Train: Loss=0.1817 Batch_id=937 Accuracy=97.67: 100%|██████████| 938/938 [00:24<00:00, 38.57it/s]\n"
     ]
    },
    {
     "name": "stdout",
     "output_type": "stream",
     "text": [
      "Test set: Average loss: 0.0320, Accuracy: 9898/10000 (98.9800%)\n",
      "\n",
      "Epoch 4\n"
     ]
    },
    {
     "name": "stderr",
     "output_type": "stream",
     "text": [
      "Train: Loss=0.0326 Batch_id=937 Accuracy=98.04: 100%|██████████| 938/938 [00:23<00:00, 39.50it/s]\n"
     ]
    },
    {
     "name": "stdout",
     "output_type": "stream",
     "text": [
      "Test set: Average loss: 0.0286, Accuracy: 9915/10000 (99.1500%)\n",
      "\n",
      "Epoch 5\n"
     ]
    },
    {
     "name": "stderr",
     "output_type": "stream",
     "text": [
      "Train: Loss=0.0705 Batch_id=937 Accuracy=98.21: 100%|██████████| 938/938 [00:23<00:00, 40.70it/s]\n"
     ]
    },
    {
     "name": "stdout",
     "output_type": "stream",
     "text": [
      "Test set: Average loss: 0.0302, Accuracy: 9898/10000 (98.9800%)\n",
      "\n",
      "Epoch 6\n"
     ]
    },
    {
     "name": "stderr",
     "output_type": "stream",
     "text": [
      "Train: Loss=0.0066 Batch_id=937 Accuracy=98.67: 100%|██████████| 938/938 [00:22<00:00, 42.25it/s]\n"
     ]
    },
    {
     "name": "stdout",
     "output_type": "stream",
     "text": [
      "Test set: Average loss: 0.0187, Accuracy: 9936/10000 (99.3600%)\n",
      "\n",
      "Epoch 7\n"
     ]
    },
    {
     "name": "stderr",
     "output_type": "stream",
     "text": [
      "Train: Loss=0.0211 Batch_id=937 Accuracy=98.82: 100%|██████████| 938/938 [00:22<00:00, 41.99it/s]\n"
     ]
    },
    {
     "name": "stdout",
     "output_type": "stream",
     "text": [
      "Test set: Average loss: 0.0184, Accuracy: 9938/10000 (99.3800%)\n",
      "\n",
      "Epoch 8\n"
     ]
    },
    {
     "name": "stderr",
     "output_type": "stream",
     "text": [
      "Train: Loss=0.0137 Batch_id=937 Accuracy=98.85: 100%|██████████| 938/938 [00:22<00:00, 41.33it/s]\n"
     ]
    },
    {
     "name": "stdout",
     "output_type": "stream",
     "text": [
      "Test set: Average loss: 0.0180, Accuracy: 9937/10000 (99.3700%)\n",
      "\n",
      "Epoch 9\n"
     ]
    },
    {
     "name": "stderr",
     "output_type": "stream",
     "text": [
      "Train: Loss=0.0057 Batch_id=937 Accuracy=98.90: 100%|██████████| 938/938 [00:21<00:00, 44.21it/s]\n"
     ]
    },
    {
     "name": "stdout",
     "output_type": "stream",
     "text": [
      "Test set: Average loss: 0.0176, Accuracy: 9936/10000 (99.3600%)\n",
      "\n",
      "Epoch 10\n"
     ]
    },
    {
     "name": "stderr",
     "output_type": "stream",
     "text": [
      "Train: Loss=0.0093 Batch_id=937 Accuracy=98.93: 100%|██████████| 938/938 [00:21<00:00, 42.96it/s]\n"
     ]
    },
    {
     "name": "stdout",
     "output_type": "stream",
     "text": [
      "Test set: Average loss: 0.0172, Accuracy: 9947/10000 (99.4700%)\n",
      "\n",
      "Epoch 11\n"
     ]
    },
    {
     "name": "stderr",
     "output_type": "stream",
     "text": [
      "Train: Loss=0.0128 Batch_id=937 Accuracy=98.95: 100%|██████████| 938/938 [00:21<00:00, 44.07it/s]\n"
     ]
    },
    {
     "name": "stdout",
     "output_type": "stream",
     "text": [
      "Test set: Average loss: 0.0171, Accuracy: 9948/10000 (99.4800%)\n",
      "\n",
      "Epoch 12\n"
     ]
    },
    {
     "name": "stderr",
     "output_type": "stream",
     "text": [
      "Train: Loss=0.0050 Batch_id=937 Accuracy=98.95: 100%|██████████| 938/938 [00:22<00:00, 41.84it/s]\n"
     ]
    },
    {
     "name": "stdout",
     "output_type": "stream",
     "text": [
      "Test set: Average loss: 0.0168, Accuracy: 9942/10000 (99.4200%)\n",
      "\n",
      "Epoch 13\n"
     ]
    },
    {
     "name": "stderr",
     "output_type": "stream",
     "text": [
      "Train: Loss=0.0046 Batch_id=937 Accuracy=98.92: 100%|██████████| 938/938 [00:22<00:00, 42.19it/s]\n"
     ]
    },
    {
     "name": "stdout",
     "output_type": "stream",
     "text": [
      "Test set: Average loss: 0.0168, Accuracy: 9942/10000 (99.4200%)\n",
      "\n",
      "Epoch 14\n"
     ]
    },
    {
     "name": "stderr",
     "output_type": "stream",
     "text": [
      "Train: Loss=0.0061 Batch_id=937 Accuracy=98.94: 100%|██████████| 938/938 [00:20<00:00, 44.71it/s]\n"
     ]
    },
    {
     "name": "stdout",
     "output_type": "stream",
     "text": [
      "Test set: Average loss: 0.0169, Accuracy: 9942/10000 (99.4200%)\n",
      "\n",
      "Epoch 15\n"
     ]
    },
    {
     "name": "stderr",
     "output_type": "stream",
     "text": [
      "Train: Loss=0.0033 Batch_id=937 Accuracy=98.94: 100%|██████████| 938/938 [00:21<00:00, 42.67it/s]\n"
     ]
    },
    {
     "name": "stdout",
     "output_type": "stream",
     "text": [
      "Test set: Average loss: 0.0169, Accuracy: 9943/10000 (99.4300%)\n",
      "\n",
      "Epoch 16\n"
     ]
    },
    {
     "name": "stderr",
     "output_type": "stream",
     "text": [
      "Train: Loss=0.0065 Batch_id=937 Accuracy=99.00: 100%|██████████| 938/938 [00:21<00:00, 42.83it/s]\n"
     ]
    },
    {
     "name": "stdout",
     "output_type": "stream",
     "text": [
      "Test set: Average loss: 0.0168, Accuracy: 9944/10000 (99.4400%)\n",
      "\n",
      "Epoch 17\n"
     ]
    },
    {
     "name": "stderr",
     "output_type": "stream",
     "text": [
      "Train: Loss=0.0219 Batch_id=937 Accuracy=98.96: 100%|██████████| 938/938 [00:21<00:00, 43.77it/s]\n"
     ]
    },
    {
     "name": "stdout",
     "output_type": "stream",
     "text": [
      "Test set: Average loss: 0.0168, Accuracy: 9941/10000 (99.4100%)\n",
      "\n",
      "Epoch 18\n"
     ]
    },
    {
     "name": "stderr",
     "output_type": "stream",
     "text": [
      "Train: Loss=0.0358 Batch_id=937 Accuracy=98.92: 100%|██████████| 938/938 [00:22<00:00, 41.53it/s]\n"
     ]
    },
    {
     "name": "stdout",
     "output_type": "stream",
     "text": [
      "Test set: Average loss: 0.0169, Accuracy: 9944/10000 (99.4400%)\n",
      "\n",
      "Epoch 19\n"
     ]
    },
    {
     "name": "stderr",
     "output_type": "stream",
     "text": [
      "Train: Loss=0.0380 Batch_id=937 Accuracy=98.98: 100%|██████████| 938/938 [00:22<00:00, 42.29it/s]\n"
     ]
    },
    {
     "name": "stdout",
     "output_type": "stream",
     "text": [
      "Test set: Average loss: 0.0169, Accuracy: 9941/10000 (99.4100%)\n",
      "\n",
      "Epoch 20\n"
     ]
    },
    {
     "name": "stderr",
     "output_type": "stream",
     "text": [
      "Train: Loss=0.0243 Batch_id=937 Accuracy=99.01: 100%|██████████| 938/938 [00:24<00:00, 38.04it/s]\n"
     ]
    },
    {
     "name": "stdout",
     "output_type": "stream",
     "text": [
      "Test set: Average loss: 0.0168, Accuracy: 9942/10000 (99.4200%)\n",
      "\n"
     ]
    }
   ],
   "source": [
    "model = Net().to(device)\n",
    "# for name,weights in model.named_parameters():\n",
    "#     print(f\"{name}\\t\\t {weights.shape}\")\n",
    "\n",
    "summary(model=model,input_size=(1,28,28),device='cuda');\n",
    "\n",
    "optimizer = optim.SGD(model.parameters(), lr=0.2, momentum=0.9)\n",
    "scheduler = optim.lr_scheduler.StepLR(optimizer, step_size=5, gamma=0.1, verbose=True)\n",
    "# New Line\n",
    "criterion =  F.nll_loss\n",
    "num_epochs = 20\n",
    "\n",
    "for epoch in range(1, num_epochs+1):\n",
    "  print(f'Epoch {epoch}')\n",
    "  train(model, device, train_loader, optimizer, criterion)\n",
    "  test(model, device, test_loader, criterion)\n",
    "  scheduler.step()"
   ]
  },
  {
   "cell_type": "code",
   "execution_count": 17,
   "metadata": {},
   "outputs": [
    {
     "data": {
      "image/png": "[encoded data removed]",
      "text/plain": [
       "<Figure size 1500x1000 with 4 Axes>"
      ]
     },
     "metadata": {},
     "output_type": "display_data"
    }
   ],
   "source": [
    "fig, axs = plt.subplots(2,2,figsize=(15,10))\n",
    "\n",
    "axs[0, 0].plot(train_losses)\n",
    "axs[0, 0].set_title(\"Training Loss\")\n",
    "\n",
    "axs[1, 0].plot(train_acc)\n",
    "axs[1, 0].set_title(\"Training Accuracy\")\n",
    "\n",
    "axs[0, 1].plot(test_losses)\n",
    "axs[0, 1].set_title(\"Test Loss\")\n",
    "\n",
    "axs[1, 1].plot(test_acc)\n",
    "axs[1, 1].set_title(\"Test Accuracy\")\n",
    "plt.show()"
   ]
  },
  {
   "cell_type": "code",
   "execution_count": 19,
   "metadata": {},
   "outputs": [
    {
     "name": "stdout",
     "output_type": "stream",
     "text": [
      "0.13065974414348602 0.3015038073062897\n"
     ]
    }
   ],
   "source": [
    "mnist_data = datasets.MNIST( root='../../../data', download=False, transform=transforms.ToTensor() ,)\n",
    "mean,std= calculate_mean_std_mnist(mnist_data)\n",
    "\n",
    "print(mean,std)"
   ]
  }
 ],
 "metadata": {
  "kernelspec": {
   "display_name": "Python 3 (ipykernel)",
   "language": "python",
   "name": "python3"
  },
  "language_info": {
   "codemirror_mode": {
    "name": "ipython",
    "version": 3
   },
   "file_extension": ".py",
   "mimetype": "text/x-python",
   "name": "python",
   "nbconvert_exporter": "python",
   "pygments_lexer": "ipython3",
   "version": "3.12.1"
  }
 },
 "nbformat": 4,
 "nbformat_minor": 4
}
